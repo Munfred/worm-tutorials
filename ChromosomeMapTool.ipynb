{
  "nbformat": 4,
  "nbformat_minor": 0,
  "metadata": {
    "colab": {
      "name": "ChromosomeMapTool.ipynb",
      "provenance": [],
      "collapsed_sections": [],
      "include_colab_link": true
    },
    "kernelspec": {
      "name": "python3",
      "display_name": "Python 3"
    }
  },
  "cells": [
    {
      "cell_type": "markdown",
      "metadata": {
        "id": "view-in-github",
        "colab_type": "text"
      },
      "source": [
        "<a href=\"https://colab.research.google.com/github/Munfred/worm-tutorials/blob/main/ChromosomeMapTool.ipynb\" target=\"_parent\"><img src=\"https://colab.research.google.com/assets/colab-badge.svg\" alt=\"Open In Colab\"/></a>"
      ]
    },
    {
      "cell_type": "markdown",
      "metadata": {
        "id": "8GPUQZnXuqzM"
      },
      "source": [
        "A Google Colab Tool written by Raymond Lee (raymond+colab@caltech.edu)"
      ]
    },
    {
      "cell_type": "markdown",
      "metadata": {
        "id": "EpmzobvKDB6t"
      },
      "source": [
        "# USAGE: Enter a list of *C. elegans* gene names to plot a chromosome **physical** map."
      ]
    },
    {
      "cell_type": "code",
      "metadata": {
        "id": "aa3ZLLMQY7p0",
        "cellView": "form",
        "outputId": "6701aa4a-3cca-4ac8-dc56-13d3b881675c",
        "colab": {
          "base_uri": "https://localhost:8080/",
          "height": 122
        }
      },
      "source": [
        "#@title\n",
        "# From WormMine (should be replaced with a more direct DB query.)\n",
        "%pip install intermine\n",
        "from __future__ import print_function\n",
        "from intermine.webservice import Service\n",
        "service = Service(\"http://intermine.wormbase.org/tools/wormmine/service\")"
      ],
      "execution_count": 1,
      "outputs": [
        {
          "output_type": "stream",
          "text": [
            "Collecting intermine\n",
            "\u001b[?25l  Downloading https://files.pythonhosted.org/packages/37/ff/93bb9a570e7d50a675da264d4e7fc09f2fc4e85baa391dfc949bef77913f/intermine-1.11.0-py3-none-any.whl (73kB)\n",
            "\r\u001b[K     |████▌                           | 10kB 16.0MB/s eta 0:00:01\r\u001b[K     |█████████                       | 20kB 1.7MB/s eta 0:00:01\r\u001b[K     |█████████████▌                  | 30kB 2.2MB/s eta 0:00:01\r\u001b[K     |██████████████████              | 40kB 2.5MB/s eta 0:00:01\r\u001b[K     |██████████████████████▍         | 51kB 2.0MB/s eta 0:00:01\r\u001b[K     |███████████████████████████     | 61kB 2.2MB/s eta 0:00:01\r\u001b[K     |███████████████████████████████▍| 71kB 2.5MB/s eta 0:00:01\r\u001b[K     |████████████████████████████████| 81kB 2.2MB/s \n",
            "\u001b[?25hInstalling collected packages: intermine\n",
            "Successfully installed intermine-1.11.0\n"
          ],
          "name": "stdout"
        }
      ]
    },
    {
      "cell_type": "code",
      "metadata": {
        "id": "AR0RME_cLzUK",
        "cellView": "form"
      },
      "source": [
        "#@title\n",
        "# ref: https://www.w3resource.com/python-exercises/class-exercises/python-class-exercise-2.php\n",
        "def roman_to_int(s):\n",
        "  rom_val = {'I': 1, 'V': 5, 'X': 10, 'L': 50, 'C': 100, 'D': 500, 'M': 1000}\n",
        "  int_val = 0\n",
        "  for i in range(len(s)):\n",
        "    if i > 0 and rom_val[s[i]] > rom_val[s[i - 1]]:\n",
        "      int_val += rom_val[s[i]] - 2 * rom_val[s[i - 1]]\n",
        "    else:\n",
        "      int_val += rom_val[s[i]]\n",
        "  return int_val\n",
        "\n",
        "# print(roman_to_int('MMMCMLXXXVI'))"
      ],
      "execution_count": 2,
      "outputs": []
    },
    {
      "cell_type": "code",
      "metadata": {
        "id": "uVgZJ6uZW530",
        "cellView": "form",
        "outputId": "b8c86630-de78-4875-8761-7d18275a4f36",
        "colab": {
          "base_uri": "https://localhost:8080/",
          "height": 1000
        }
      },
      "source": [
        "#@title\n",
        "!wget \"https://noto-website-2.storage.googleapis.com/pkgs/NotoSans-hinted.zip\"\n",
        "!unzip \"NotoSans-hinted.zip\"\n",
        "!mv \"NotoSans-BoldItalic.ttf\" \"/usr/share/fonts/truetype\"\n",
        "!mv \"NotoSans-Bold.ttf\" \"/usr/share/fonts/truetype\"\n",
        "!mv \"NotoSans-Italic.ttf\" \"/usr/share/fonts/truetype\"\n",
        "!mv \"NotoSans-ExtraBoldItalic.ttf\" \"/usr/share/fonts/truetype\""
      ],
      "execution_count": 3,
      "outputs": [
        {
          "output_type": "stream",
          "text": [
            "--2020-10-14 18:50:16--  https://noto-website-2.storage.googleapis.com/pkgs/NotoSans-hinted.zip\n",
            "Resolving noto-website-2.storage.googleapis.com (noto-website-2.storage.googleapis.com)... 64.233.170.128, 2607:f8b0:400c:c0d::80\n",
            "Connecting to noto-website-2.storage.googleapis.com (noto-website-2.storage.googleapis.com)|64.233.170.128|:443... connected.\n",
            "HTTP request sent, awaiting response... 200 OK\n",
            "Length: 16796031 (16M) [application/zip]\n",
            "Saving to: ‘NotoSans-hinted.zip’\n",
            "\n",
            "NotoSans-hinted.zip 100%[===================>]  16.02M  23.3MB/s    in 0.7s    \n",
            "\n",
            "2020-10-14 18:50:17 (23.3 MB/s) - ‘NotoSans-hinted.zip’ saved [16796031/16796031]\n",
            "\n",
            "Archive:  NotoSans-hinted.zip\n",
            "  inflating: LICENSE_OFL.txt         \n",
            "  inflating: NotoSans-Black.ttf      \n",
            "  inflating: NotoSans-BlackItalic.ttf  \n",
            "  inflating: NotoSans-Bold.ttf       \n",
            "  inflating: NotoSans-BoldItalic.ttf  \n",
            "  inflating: NotoSans-Condensed.ttf  \n",
            "  inflating: NotoSans-CondensedBlack.ttf  \n",
            "  inflating: NotoSans-CondensedBlackItalic.ttf  \n",
            "  inflating: NotoSans-CondensedBold.ttf  \n",
            "  inflating: NotoSans-CondensedBoldItalic.ttf  \n",
            "  inflating: NotoSans-CondensedExtraBold.ttf  \n",
            "  inflating: NotoSans-CondensedExtraBoldItalic.ttf  \n",
            "  inflating: NotoSans-CondensedExtraLight.ttf  \n",
            "  inflating: NotoSans-CondensedExtraLightItalic.ttf  \n",
            "  inflating: NotoSans-CondensedItalic.ttf  \n",
            "  inflating: NotoSans-CondensedLight.ttf  \n",
            "  inflating: NotoSans-CondensedLightItalic.ttf  \n",
            "  inflating: NotoSans-CondensedMedium.ttf  \n",
            "  inflating: NotoSans-CondensedMediumItalic.ttf  \n",
            "  inflating: NotoSans-CondensedSemiBold.ttf  \n",
            "  inflating: NotoSans-CondensedSemiBoldItalic.ttf  \n",
            "  inflating: NotoSans-CondensedThin.ttf  \n",
            "  inflating: NotoSans-CondensedThinItalic.ttf  \n",
            "  inflating: NotoSans-ExtraBold.ttf  \n",
            "  inflating: NotoSans-ExtraBoldItalic.ttf  \n",
            "  inflating: NotoSans-ExtraCondensed.ttf  \n",
            "  inflating: NotoSans-ExtraCondensedBlack.ttf  \n",
            "  inflating: NotoSans-ExtraCondensedBlackItalic.ttf  \n",
            "  inflating: NotoSans-ExtraCondensedBold.ttf  \n",
            "  inflating: NotoSans-ExtraCondensedBoldItalic.ttf  \n",
            "  inflating: NotoSans-ExtraCondensedExtraBold.ttf  \n",
            "  inflating: NotoSans-ExtraCondensedExtraBoldItalic.ttf  \n",
            "  inflating: NotoSans-ExtraCondensedExtraLight.ttf  \n",
            "  inflating: NotoSans-ExtraCondensedExtraLightItalic.ttf  \n",
            "  inflating: NotoSans-ExtraCondensedItalic.ttf  \n",
            "  inflating: NotoSans-ExtraCondensedLight.ttf  \n",
            "  inflating: NotoSans-ExtraCondensedLightItalic.ttf  \n",
            "  inflating: NotoSans-ExtraCondensedMedium.ttf  \n",
            "  inflating: NotoSans-ExtraCondensedMediumItalic.ttf  \n",
            "  inflating: NotoSans-ExtraCondensedSemiBold.ttf  \n",
            "  inflating: NotoSans-ExtraCondensedSemiBoldItalic.ttf  \n",
            "  inflating: NotoSans-ExtraCondensedThin.ttf  \n",
            "  inflating: NotoSans-ExtraCondensedThinItalic.ttf  \n",
            "  inflating: NotoSans-ExtraLight.ttf  \n",
            "  inflating: NotoSans-ExtraLightItalic.ttf  \n",
            "  inflating: NotoSans-Italic.ttf     \n",
            "  inflating: NotoSans-Light.ttf      \n",
            "  inflating: NotoSans-LightItalic.ttf  \n",
            "  inflating: NotoSans-Medium.ttf     \n",
            "  inflating: NotoSans-MediumItalic.ttf  \n",
            "  inflating: NotoSans-Regular.ttf    \n",
            "  inflating: NotoSans-SemiBold.ttf   \n",
            "  inflating: NotoSans-SemiBoldItalic.ttf  \n",
            "  inflating: NotoSans-SemiCondensed.ttf  \n",
            "  inflating: NotoSans-SemiCondensedBlack.ttf  \n",
            "  inflating: NotoSans-SemiCondensedBlackItalic.ttf  \n",
            "  inflating: NotoSans-SemiCondensedBold.ttf  \n",
            "  inflating: NotoSans-SemiCondensedBoldItalic.ttf  \n",
            "  inflating: NotoSans-SemiCondensedExtraBold.ttf  \n",
            "  inflating: NotoSans-SemiCondensedExtraBoldItalic.ttf  \n",
            "  inflating: NotoSans-SemiCondensedExtraLight.ttf  \n",
            "  inflating: NotoSans-SemiCondensedExtraLightItalic.ttf  \n",
            "  inflating: NotoSans-SemiCondensedItalic.ttf  \n",
            "  inflating: NotoSans-SemiCondensedLight.ttf  \n",
            "  inflating: NotoSans-SemiCondensedLightItalic.ttf  \n",
            "  inflating: NotoSans-SemiCondensedMedium.ttf  \n",
            "  inflating: NotoSans-SemiCondensedMediumItalic.ttf  \n",
            "  inflating: NotoSans-SemiCondensedSemiBold.ttf  \n",
            "  inflating: NotoSans-SemiCondensedSemiBoldItalic.ttf  \n",
            "  inflating: NotoSans-SemiCondensedThin.ttf  \n",
            "  inflating: NotoSans-SemiCondensedThinItalic.ttf  \n",
            "  inflating: NotoSans-Thin.ttf       \n",
            "  inflating: NotoSans-ThinItalic.ttf  \n",
            "  inflating: README                  \n"
          ],
          "name": "stdout"
        }
      ]
    },
    {
      "cell_type": "code",
      "metadata": {
        "id": "R3HpDFq5Xp-h",
        "cellView": "form"
      },
      "source": [
        "#@title\n",
        "# ref: https://stackoverflow.com/questions/245447/how-do-i-draw-text-at-an-angle-using-pythons-pil\n",
        "def rotatetxt(text='test', degree=90):\n",
        "  from PIL import Image, ImageFont, ImageDraw, ImageOps\n",
        "\n",
        "  font = ImageFont.truetype(\"/usr/share/fonts/truetype/NotoSans-ExtraBoldItalic.ttf\", size=12)\n",
        "  width, height = font.getsize(text)\n",
        "\n",
        "  image = Image.new('L', (height+50, width))\n",
        "  draw = ImageDraw.Draw(image)\n",
        "  draw.text((0, 0), text, font=font, fill=255)\n",
        "  writeout = image.rotate(degree, expand=1)\n",
        "  return writeout\n",
        "\n",
        "\n",
        " \n"
      ],
      "execution_count": 4,
      "outputs": []
    },
    {
      "cell_type": "markdown",
      "metadata": {
        "id": "gD4LrqohZ8lC"
      },
      "source": [
        "# Get Genes"
      ]
    },
    {
      "cell_type": "code",
      "metadata": {
        "id": "N2a4A6znYXlc",
        "cellView": "form"
      },
      "source": [
        "#@title Enter a list of <i>C. elegans</i> gene names (separated by comma)\n",
        "GeneNames = \"eat-4, egl-19, eat-8, glr-1, C26C6.1, sea-2, WBGene00006669, lin-15A, ctb-1, madf-5, F19B2.10, gpa-3\" #@param {type:\"string\"}\n",
        "import regex as re\n",
        "gene_strings = re.split('; |, |\\*|\\n', GeneNames)\n",
        "# print(gene_strings)\n"
      ],
      "execution_count": 5,
      "outputs": []
    },
    {
      "cell_type": "code",
      "metadata": {
        "id": "fjP0Ek9vbVu2",
        "cellView": "form",
        "outputId": "12cd96af-e7e6-41b1-fbec-bebb41358e10",
        "colab": {
          "base_uri": "https://localhost:8080/",
          "height": 71
        }
      },
      "source": [
        "#@title\n",
        "genes_found = {}\n",
        "genes_notfound = []\n",
        "# From WormMine (should be replaced with a more direct DB query.)\n",
        "\n",
        "for gene_name in gene_strings:\n",
        "  gene_name = gene_name.strip()\n",
        "  genequery = service.new_query(\"Gene\") # service defined in previous block\n",
        "  genequery.add_view(\"chromosome.primaryIdentifier\", \"locations.start\")\n",
        "  genequery.add_constraint(\"Gene\", \"LOOKUP\", gene_name, \"C. elegans\", code = \"A\")\n",
        "\n",
        "  if gene_name not in genes_found:  # gather list of non redundant genes\n",
        "    if not genequery.rows():\n",
        "      genes_notfound.append(gene_name)\n",
        "    else:\n",
        "      for generow in genequery.rows():\n",
        "        gene_id, gene_pub_name, gene_chr, gene_loc = generow[\"primaryIdentifier\"], generow[\"symbol\"], generow[\"chromosome.primaryIdentifier\"], generow[\"locations.start\"]\n",
        "        genes_found.update({gene_id : [gene_pub_name, gene_chr, gene_loc]})\n",
        "print('Genes Mapped', genes_found)\n",
        "print('Genes Not Mapped ', genes_notfound)"
      ],
      "execution_count": 6,
      "outputs": [
        {
          "output_type": "stream",
          "text": [
            "Genes Mapped {'WBGene00001135': ['eat-4', 'III', 9136887], 'WBGene00001187': ['egl-19', 'IV', 7405582], 'WBGene00001612': ['glr-1', 'III', 8584163], 'WBGene00007042': ['pbrm-1', 'I', 7495429], 'WBGene00004751': ['sea-2', 'II', 3950377], 'WBGene00006669': ['twk-14', 'V', 12387039], 'WBGene00023498': ['lin-15A', 'X', 15731963], 'WBGene00000829': ['ctb-1', 'MtDNA', 4504], 'WBGene00007242': ['madf-5', 'II', 14573608], 'WBGene00043055': ['F19B2.10', 'V', 20176101], 'WBGene00001665': ['gpa-3', 'V', 9356579]}\n",
            "Genes Not Mapped  ['eat-8']\n"
          ],
          "name": "stdout"
        }
      ]
    },
    {
      "cell_type": "markdown",
      "metadata": {
        "id": "OrjCJCYsZxNt"
      },
      "source": [
        "# Fetch Chromosomes"
      ]
    },
    {
      "cell_type": "code",
      "metadata": {
        "id": "FqNTzuWtmLcQ",
        "cellView": "form"
      },
      "source": [
        "#@title\n",
        "# Get Chromosomes and Lengths\n",
        "Chrquery = service.new_query(\"Chromosome\")\n",
        "Chrquery.add_view(\"primaryIdentifier\", \"length\")\n",
        "chromosomes = {}\n",
        "for chrrow in Chrquery.rows():\n",
        "  (chrom_label, length) = (chrrow[\"primaryIdentifier\"], chrrow[\"length\"])\n",
        "  if 'X' in chrom_label:\n",
        "    chr_num = (5+1)\n",
        "  elif 'MtDNA' in chrom_label:\n",
        "    chr_num = (6+1) \n",
        "  else:\n",
        "    chr_num = roman_to_int(chrom_label)\n",
        "  chromosomes.update({chr_num : [chrom_label, length]})\n",
        "\n",
        "# print(sorted(chromosomes.items()))"
      ],
      "execution_count": 7,
      "outputs": []
    },
    {
      "cell_type": "markdown",
      "metadata": {
        "id": "6FLFyFrSaMfh"
      },
      "source": [
        "# Plot"
      ]
    },
    {
      "cell_type": "code",
      "metadata": {
        "id": "lxnk0tV29Wan",
        "cellView": "both",
        "outputId": "274410e4-2a94-4e6e-d510-d5c7f552120a",
        "colab": {
          "base_uri": "https://localhost:8080/",
          "height": 537
        }
      },
      "source": [
        "#@title\n",
        "from PIL import Image, ImageDraw, ImageFont, ImageOps\n",
        "\n",
        "spacer = 65   # increase this to expand graph height\n",
        "headspace = 60\n",
        "mitohead = 200\n",
        "txthead = 15\n",
        "nameshift = 65\n",
        "autoscale = 25000   # reduce this to expand graph width\n",
        "mitoscale = (autoscale / 1000)\n",
        "\n",
        "im = Image.new('RGB', (int(25000000 / autoscale), (spacer * 8)), (255, 255, 255)) # canvas dimension and color\n",
        "graph = ImageDraw.Draw(im)\n",
        "\n",
        "\n",
        "\n",
        "for chromosome in chromosomes:\n",
        "  (chrnum, chromlabel, chromlength) = \\\n",
        "  (chromosome, chromosomes[chromosome][0], chromosomes[chromosome][1])\n",
        "  font = ImageFont.truetype(\"/usr/share/fonts/truetype/NotoSans-Bold.ttf\", size=20)\n",
        "  if 'MtDNA' in chromlabel:\n",
        "    graph.line((mitohead, (spacer * chrnum), (chromlength/mitoscale + mitohead), (spacer * chrnum)), fill=(0, 100, 255), width=5)\n",
        "    graph.text((txthead, (spacer * chrnum - 15)),(chromlabel + ' (X 1,000)'),(0,0,0),font=font)\n",
        "  else:\n",
        "    graph.line((headspace, (spacer * chrnum), (chromlength/autoscale + headspace), (spacer * chrnum)), fill=(0, 100, 255), width=5)\n",
        "    graph.text((txthead, (spacer * chrnum - 15)),(chromlabel),(0,0,0),font=font)\n",
        "\n",
        "for gene in genes_found:\n",
        "  (geneid, pubname, chromo, location) = \\\n",
        "  (gene, genes_found[gene][0], genes_found[gene][1], genes_found[gene][2])\n",
        "  font = ImageFont.truetype(\"/usr/share/fonts/truetype/NotoSans-BoldItalic.ttf\")\n",
        "  if 'MtDNA' in chromo:\n",
        "    chrnum = 7\n",
        "    graph.line(((location/mitoscale + mitohead), (spacer * chrnum -2.5 ), (location/mitoscale + mitohead), (spacer * chrnum - 10)), fill=(0, 0, 0), width=2)\n",
        "    im.paste( ImageOps.colorize(rotatetxt(pubname, 45), (0,0,0), (0,0,0)), (int(location/mitoscale + mitohead - 5), (spacer * chrnum - nameshift)),  rotatetxt(pubname, 45))\n",
        "#    graph.text(((location/mitoscale + mitohead), (spacer * chrnum - 25)), pubname, (0,0,0), font=font)\n",
        "  elif 'X' in chromo:\n",
        "    chrnum = 6\n",
        "    graph.line(((location/autoscale + headspace), (spacer * chrnum -2.5 ), (location/autoscale + headspace), (spacer * chrnum - 10)), fill=(0, 0, 0), width=2)\n",
        "    im.paste( ImageOps.colorize(rotatetxt(pubname, 45), (0,0,0), (0,0,0)), (int(location/autoscale + headspace - 5), (spacer * chrnum - nameshift)),  rotatetxt(pubname, 45))\n",
        "#    graph.text(((location/autoscale + headspace), (spacer * chrnum - 25)), pubname, (0,0,0), font=font)\n",
        "  else:\n",
        "    chrnum = roman_to_int(chromo)\n",
        "    graph.line(((location/autoscale + headspace), (spacer * chrnum -2.5 ), (location/autoscale + headspace), (spacer * chrnum - 10)), fill=(0, 0, 0), width=2)\n",
        "    im.paste( ImageOps.colorize(rotatetxt(pubname, 45), (0,0,0), (0,0,0)), (int(location/autoscale + headspace - 5), (spacer * chrnum - nameshift)),  rotatetxt(pubname, 45))\n",
        "#    graph.text(((location/autoscale + headspace), (spacer * chrnum - 25)), pubname, (0,0,0), font=font)\n",
        "\n",
        "im\n"
      ],
      "execution_count": 8,
      "outputs": [
        {
          "output_type": "execute_result",
          "data": {
            "image/png": "[encoded data removed]",
            "text/plain": [
              "<PIL.Image.Image image mode=RGB size=1000x520 at 0x7F3726E28978>"
            ]
          },
          "metadata": {
            "tags": []
          },
          "execution_count": 8
        }
      ]
    },
    {
      "cell_type": "markdown",
      "metadata": {
        "id": "gclZWG1caapA"
      },
      "source": [
        "# Save Plot"
      ]
    },
    {
      "cell_type": "code",
      "metadata": {
        "id": "a6fLXmzt0XE4",
        "cellView": "both",
        "outputId": "ddeb1eeb-fb6f-424d-da32-1a171f6f3259",
        "colab": {
          "base_uri": "https://localhost:8080/",
          "height": 17
        }
      },
      "source": [
        "#@title\n",
        "im.save('ChrMap.png','')\n",
        "\n",
        "from google.colab import files\n",
        "files.download('ChrMap.png')\n",
        "\n"
      ],
      "execution_count": 9,
      "outputs": [
        {
          "output_type": "display_data",
          "data": {
            "application/javascript": [
              "\n",
              "    async function download(id, filename, size) {\n",
              "      if (!google.colab.kernel.accessAllowed) {\n",
              "        return;\n",
              "      }\n",
              "      const div = document.createElement('div');\n",
              "      const label = document.createElement('label');\n",
              "      label.textContent = `Downloading \"${filename}\": `;\n",
              "      div.appendChild(label);\n",
              "      const progress = document.createElement('progress');\n",
              "      progress.max = size;\n",
              "      div.appendChild(progress);\n",
              "      document.body.appendChild(div);\n",
              "\n",
              "      const buffers = [];\n",
              "      let downloaded = 0;\n",
              "\n",
              "      const channel = await google.colab.kernel.comms.open(id);\n",
              "      // Send a message to notify the kernel that we're ready.\n",
              "      channel.send({})\n",
              "\n",
              "      for await (const message of channel.messages) {\n",
              "        // Send a message to notify the kernel that we're ready.\n",
              "        channel.send({})\n",
              "        if (message.buffers) {\n",
              "          for (const buffer of message.buffers) {\n",
              "            buffers.push(buffer);\n",
              "            downloaded += buffer.byteLength;\n",
              "            progress.value = downloaded;\n",
              "          }\n",
              "        }\n",
              "      }\n",
              "      const blob = new Blob(buffers, {type: 'application/binary'});\n",
              "      const a = document.createElement('a');\n",
              "      a.href = window.URL.createObjectURL(blob);\n",
              "      a.download = filename;\n",
              "      div.appendChild(a);\n",
              "      a.click();\n",
              "      div.remove();\n",
              "    }\n",
              "  "
            ],
            "text/plain": [
              "<IPython.core.display.Javascript object>"
            ]
          },
          "metadata": {
            "tags": []
          }
        },
        {
          "output_type": "display_data",
          "data": {
            "application/javascript": [
              "download(\"download_4ee3bf3c-ce1d-4859-9572-38e0e180d4fc\", \"ChrMap.png\", 18192)"
            ],
            "text/plain": [
              "<IPython.core.display.Javascript object>"
            ]
          },
          "metadata": {
            "tags": []
          }
        }
      ]
    }
  ]
}